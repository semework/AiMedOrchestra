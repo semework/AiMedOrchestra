








from graph import show_mermaid_png
show_mermaid_png()





from aimedorchestra.agents.clinical_trial_matching.agent import TrialMatchingAgent

def pretty_trials(trials: list[dict], max_rows: int | None = None) -> str:
    rows = trials if max_rows is None else trials[:max_rows]
    out  = []
    for t in rows:
        out.append(
            f"** {t['title']} **  \n"
            f"ID: `{t['id']}` | Phase: {t.get('phase','–')} | Condition: {t['condition']}  \n"
            f"Age {t['min_age']}-{t['max_age']} | Locations: {', '.join(t['locations'])}  \n"
            f"{t['summary']}  \n"
            f"[clinicaltrials.gov]({t['url']})"
        )
        out.append("")                 # blank line as separator
    return "\n".join(out)

tm      = TrialMatchingAgent(trials_path="data/trials.json")
matches = tm.match({"age": 50, "conditions": ["Diabetes"]})

print(pretty_trials(matches, max_rows=3))



# Data synthesis
from aimedorchestra.agents.data_synthesis.agent import DataSynthesisAgent
ds = DataSynthesisAgent(epochs=1)
print(ds.run(3))


from aimedorchestra.agents.data_synthesis.agent import DataSynthesisAgent
from aimedorchestra.agents.ethical_monitoring.agent import EthicsAgent

ds = DataSynthesisAgent(epochs=1)     # lightweight CTGAN / Faker
ea = EthicsAgent(data_synthesizer=ds) # <-- satisfy required arg

logs = [
    "2025-08-05 patient_123 race=Black outcome=error",
    "2025-08-05 patient_124 race=White outcome=ok",
]
print(ea.check(logs))










# Chat UI for AiMedOrchestra (run this cell)
from IPython.display import display, HTML, clear_output
import ipywidgets as widgets
from pathlib import Path
import sys, json, datetime

# Ensure we can import the updated orchestrator (saved to /mnt/data)
sys.path.insert(0, str(Path('.').resolve()))
sys.path.insert(0, '/mnt/data')

from aimedorchestraAgent import aimedorchestraAgent

orch = aimedorchestraAgent()

# --- UI widgets ---
chat_box = widgets.Output(layout={'border': '1px solid #ddd', 'height':'350px', 'overflow_y':'auto', 'padding':'8px'})
inp = widgets.Text(placeholder='Type a message, then press Enter or click Send')
send_btn = widgets.Button(description='Send')
clear_btn = widgets.Button(description='Clear', button_style='warning')

def render_message(sender, text):
    stamp = datetime.datetime.now().strftime('%H:%M:%S')
    style = 'color:#111' if sender=='You' else 'color:#0366d6'
    with chat_box:
        display(HTML(
            f"<div style='margin:6px 0'>"
            f"<b style='{style}'>{sender}</b> "
            f"<span style='color:#999;font-size:12px'>{stamp}</span><br>"
            f"<pre style='white-space:pre-wrap;word-break:break-word;margin:4px 0;"
            f"background:#f7f7f8;padding:8px;border-radius:8px'>{text}</pre>"
            f"</div>"
        ))

def on_send(_=None):
    text = inp.value.strip()
    if not text:
        return
    render_message('You', text)
    try:
        resp = orch.chat(text)  # returns JSON string
    except Exception as e:
        resp = json.dumps({'error': str(e)}, indent=2)
    render_message('Orchestra', resp)
    inp.value=''

send_btn.on_click(on_send)
inp.on_submit(on_send)

def on_clear(_):
    chat_box.clear_output()
clear_btn.on_click(on_clear)

display(widgets.VBox([chat_box, widgets.HBox([inp, send_btn, clear_btn])]))




# Gradio chat UI (doesn't require ipywidgets) — run this cell
import gradio as gr
from aimedorchestraagent import aimedorchestraAgent

orch = aimedorchestraAgent()

def converse(message, history):
    try:
        return orch.route(message)
    except Exception as e:
        return f"Error: {e}"

demo = gr.ChatInterface(
    fn=converse,
    title="AiMedOrchestra — Chat",
    description="Type natural requests like: 'create two synthetic patients', 'diagnose a 55 yo female with chest pain', or 'find clinical trials for lung cancer near Boston'.",
    examples=[
        "create two synthetic patients",
        "diagnose a 55 yo female with chest pain and cough",
        "find clinical trials for lung cancer near Boston",
        "run full pipeline on {\"age\":60, \"sex\":\"male\", \"conditions\":[\"diabetes\"]}"
    ],
    cache_examples=False,
)

demo.launch(inline=True, height=600, share=False)




